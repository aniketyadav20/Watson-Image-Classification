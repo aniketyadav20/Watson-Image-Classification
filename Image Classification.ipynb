{
 "cells": [
  {
   "cell_type": "code",
   "execution_count": 2,
   "metadata": {},
   "outputs": [
    {
     "name": "stdout",
     "output_type": "stream",
     "text": [
      "('web_site', ' : ', 69.194495677948)\n",
      "('envelope', ' : ', 18.489763140678406)\n",
      "('book_jacket', ' : ', 3.8654107600450516)\n",
      "('jersey', ' : ', 2.3431869223713875)\n",
      "('sweatshirt', ' : ', 1.6716739162802696)\n",
      "('binder', ' : ', 0.7509021088480949)\n",
      "('shower_cap', ' : ', 0.6994473282247782)\n",
      "('packet', ' : ', 0.5462460219860077)\n",
      "('barn_spider', ' : ', 0.18835964147001505)\n",
      "('pick', ' : ', 0.1673104357905686)\n",
      "('web_site', ' : ', 69.194495677948)\n",
      "('envelope', ' : ', 18.489763140678406)\n",
      "('book_jacket', ' : ', 3.8654107600450516)\n",
      "('jersey', ' : ', 2.3431869223713875)\n",
      "('sweatshirt', ' : ', 1.6716739162802696)\n",
      "('binder', ' : ', 0.7509021088480949)\n",
      "('shower_cap', ' : ', 0.6994473282247782)\n",
      "('packet', ' : ', 0.5462460219860077)\n",
      "('barn_spider', ' : ', 0.18835964147001505)\n",
      "('pick', ' : ', 0.1673104357905686)\n"
     ]
    }
   ],
   "source": [
    "from tkinter import *\n",
    "from PIL import ImageTk, Image  \n",
    "from tkinter import filedialog\n",
    "from imageai.Classification import ImageClassification \n",
    "#import image_classifier as imc\n",
    "root=Tk()\n",
    "root.title('𝕴𝖒𝖆𝖌𝖊 𝖈𝖑𝖆𝖘𝖘𝖎𝖋𝖎𝖊𝖗')\n",
    "root.geometry(\"720x720+10+20\")\n",
    "lbl=Label(root, text=\"𝓦𝓮𝓵𝓬𝓸𝓶𝓮 𝓽𝓸 𝕴𝖒𝖆𝖌𝖊 𝖈𝖑𝖆𝖘𝖘𝖎𝖋𝖎𝖊𝖗\", fg='red',font=32)\n",
    "lbl.place(x=300, y=20)\n",
    "lb2=Label(root, text=\"𝖈𝖍𝖔𝖔𝖘𝖊 𝖙𝖍𝖊 𝖎𝖒𝖆𝖌𝖊 𝕿𝖔 𝖕𝖗𝖔𝖈𝖊𝖊𝖉\", fg='blue',font=20)\n",
    "lb2.place(x=75, y=100)\n",
    "root.resizable(width = True, height = True)\n",
    "\n",
    "\n",
    "def open_img():\n",
    "    x = openfilename()\n",
    "    open_img.z = x\n",
    "    img = Image.open(x)  \n",
    "    img = img.resize((480, 360), Image.ANTIALIAS) \n",
    "    img = ImageTk.PhotoImage(img) \n",
    "    panel = Label(root, image = img) \n",
    "    panel.image = img\n",
    "    panel.place(x=0,y=200)\n",
    "\n",
    "def openfilename(): \n",
    "    filename = filedialog.askopenfilename(title ='\"pen')\n",
    "    return filename\n",
    "     \n",
    " \n",
    "def prediction():\n",
    "    y= open_img.z\n",
    "    prediction = ImageClassification()\n",
    "    prediction.setModelTypeAsResNet50()\n",
    "    prediction.setModelPath(\"resnet50_imagenet_tf.2.0.h5\")\n",
    "    prediction.loadModel()\n",
    "    predictions, percentage_probabilities = prediction.classifyImage(y, result_count=10)\n",
    "    for index in range(len(predictions)):\n",
    "      pred = predictions[index] , \" : \" , percentage_probabilities[index]\n",
    "      print(pred)\n",
    "\n",
    "btn1 = Button(root, text ='𝕾𝖊𝖆𝖗𝖈𝖍', command = open_img)\n",
    "btn1.place(x=450,y=100) \n",
    "lb3 = Label(text= 'pred')\n",
    "lb3.place(x=500,y=100)\n",
    "lb3.pack()\n",
    "btn2 = Button(root, text ='𝖆𝖓𝖆𝖑𝖞𝖟𝖊', command = prediction)\n",
    "btn2.place(x=560,y=100) \n",
    "\n",
    "\n",
    "root.mainloop()"
   ]
  },
  {
   "cell_type": "code",
   "execution_count": null,
   "metadata": {},
   "outputs": [],
   "source": []
  }
 ],
 "metadata": {
  "kernelspec": {
   "display_name": "Python 3",
   "language": "python",
   "name": "python3"
  },
  "language_info": {
   "codemirror_mode": {
    "name": "ipython",
    "version": 3
   },
   "file_extension": ".py",
   "mimetype": "text/x-python",
   "name": "python",
   "nbconvert_exporter": "python",
   "pygments_lexer": "ipython3",
   "version": "3.8.5"
  }
 },
 "nbformat": 4,
 "nbformat_minor": 4
}
