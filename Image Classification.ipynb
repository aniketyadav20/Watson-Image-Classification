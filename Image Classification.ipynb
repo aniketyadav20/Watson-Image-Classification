{
 "cells": [
  {
   "cell_type": "code",
   "execution_count": 22,
   "metadata": {},
   "outputs": [
    {
     "name": "stdout",
     "output_type": "stream",
     "text": [
      "WARNING:tensorflow:11 out of the last 11 calls to <function Model.make_predict_function.<locals>.predict_function at 0x00000170861DC5E0> triggered tf.function retracing. Tracing is expensive and the excessive number of tracings could be due to (1) creating @tf.function repeatedly in a loop, (2) passing tensors with different shapes, (3) passing Python objects instead of tensors. For (1), please define your @tf.function outside of the loop. For (2), @tf.function has experimental_relax_shapes=True option that relaxes argument shapes that can avoid unnecessary retracing. For (3), please refer to https://www.tensorflow.org/guide/function#controlling_retracing and https://www.tensorflow.org/api_docs/python/tf/function for  more details.\n",
      "('Siberian_husky', ' : ', 39.24470841884613)\n",
      "('Eskimo_dog', ' : ', 21.301499009132385)\n",
      "('Norwegian_elkhound', ' : ', 13.788990676403046)\n",
      "('cougar', ' : ', 3.728405013680458)\n",
      "('lynx', ' : ', 3.3643748611211777)\n",
      "('Egyptian_cat', ' : ', 3.3601678907871246)\n",
      "('weasel', ' : ', 2.0211435854434967)\n",
      "('groenendael', ' : ', 2.014402858912945)\n",
      "('basenji', ' : ', 1.8165457993745804)\n",
      "('grey_fox', ' : ', 1.0719665326178074)\n"
     ]
    }
   ],
   "source": [
    "from tkinter import *\n",
    "from PIL import ImageTk, Image  \n",
    "from tkinter import filedialog\n",
    "from imageai.Classification import ImageClassification \n",
    "#import image_classifier as imc\n",
    "root=Tk()\n",
    "root.title('𝕴𝖒𝖆𝖌𝖊 𝖈𝖑𝖆𝖘𝖘𝖎𝖋𝖎𝖊𝖗')\n",
    "root.geometry(\"720x720+10+20\")\n",
    "lbl=Label(root, text=\"𝓦𝓮𝓵𝓬𝓸𝓶𝓮 𝓽𝓸 𝕴𝖒𝖆𝖌𝖊 𝖈𝖑𝖆𝖘𝖘𝖎𝖋𝖎𝖊𝖗\", fg='red',font=32)\n",
    "lbl.place(x=300, y=20)\n",
    "lb2=Label(root, text=\"𝖈𝖍𝖔𝖔𝖘𝖊 𝖙𝖍𝖊 𝖎𝖒𝖆𝖌𝖊 𝕿𝖔 𝖕𝖗𝖔𝖈𝖊𝖊𝖉\", fg='blue',font=20)\n",
    "lb2.place(x=75, y=100)\n",
    "root.resizable(width = True, height = True) \n",
    "root.configure(bg='black')\n",
    "\n",
    "def open_img():\n",
    "    x = openfilename()\n",
    "    open_img.z = x\n",
    "    img = Image.open(x)  \n",
    "    img = img.resize((480, 360), Image.ANTIALIAS) \n",
    "    img = ImageTk.PhotoImage(img) \n",
    "    panel = Label(root, image = img) \n",
    "    panel.image = img\n",
    "    panel.place(x=0,y=200)\n",
    "\n",
    "def openfilename(): \n",
    "    filename = filedialog.askopenfilename(title ='\"pen')\n",
    "    return filename\n",
    "     \n",
    " \n",
    "def prediction():\n",
    "    y= open_img.z\n",
    "    prediction = ImageClassification()\n",
    "    prediction.setModelTypeAsResNet50()\n",
    "    prediction.setModelPath(\"resnet50_imagenet_tf.2.0.h5\")\n",
    "    prediction.loadModel()\n",
    "    predictions, percentage_probabilities = prediction.classifyImage(y, result_count=10)\n",
    "    for index in range(len(predictions)):\n",
    "      pred = predictions[index] , \" : \" , percentage_probabilities[index]\n",
    "      print(pred)\n",
    "\n",
    "btn1 = Button(root, text ='𝕾𝖊𝖆𝖗𝖈𝖍', command = open_img)\n",
    "btn1.place(x=450,y=100) \n",
    "\n",
    "btn2 = Button(root, text ='𝖆𝖓𝖆𝖑𝖞𝖟𝖊', command = prediction)\n",
    "btn2.place(x=560,y=100) \n",
    "\n",
    "\n",
    "root.mainloop()"
   ]
  },
  {
   "cell_type": "code",
   "execution_count": null,
   "metadata": {},
   "outputs": [],
   "source": []
  }
 ],
 "metadata": {
  "kernelspec": {
   "display_name": "Python 3",
   "language": "python",
   "name": "python3"
  },
  "language_info": {
   "codemirror_mode": {
    "name": "ipython",
    "version": 3
   },
   "file_extension": ".py",
   "mimetype": "text/x-python",
   "name": "python",
   "nbconvert_exporter": "python",
   "pygments_lexer": "ipython3",
   "version": "3.8.5"
  }
 },
 "nbformat": 4,
 "nbformat_minor": 4
}
